{
 "cells": [
  {
   "cell_type": "code",
   "execution_count": null,
   "metadata": {},
   "outputs": [],
   "source": [
    "import numpy as np\n",
    "import cv2 as cv\n",
    "from matplotlib import pyplot as plt\n",
    "\n",
    "img = cv.imread(\"D:\\\\Onedrive\\\\Documents\\\\codes\\\\GrabCut\\\\beispiel_aus_datensatz.jpg\")\n",
    "#cv.imshow(\"img\",img)\n",
    "mask = np.zeros(img.shape[:2],np.uint8)\n",
    "\n",
    "\n",
    "bgModel = np.zeros((1,65),np.float64)\n",
    "fgModel = np.zeros((1,65),np.float64)\n",
    "\n",
    "rect = (1600,1600,3400,3400)\n",
    "cv.grabCut(img,mask,rect,bgModel,fgModel,5,cv.GC_INIT_WITH_RECT)\n",
    "\n",
    "mask2 = np.where((mask ==2)|(mask == 0),0,1).astype('uint8')\n",
    "plt.subplot(121)\n",
    "plt.title(\"GrabCut\")\n",
    "plt.xticks([]),plt.yticks([])\n",
    "plt.imshow(img)\n",
    "\n",
    "plt.subplot(122)\n",
    "plt.imshow(cv.cvtColor(cv.imread(\"D:\\\\Onedrive\\\\Documents\\\\codes\\\\GrabCut\\\\beispiel_aus_datensatz.jpg\"),cv.COLOR_BGR2RGB))\n",
    "plt.title(\"Original\")\n",
    "plt.xticks([]),plt.yticks([])\n",
    "\n",
    "plt.show()"
   ]
  },
  {
   "cell_type": "code",
   "execution_count": null,
   "metadata": {},
   "outputs": [],
   "source": []
  },
  {
   "cell_type": "code",
   "execution_count": null,
   "metadata": {},
   "outputs": [],
   "source": []
  }
 ],
 "metadata": {
  "kernelspec": {
   "display_name": "Python 3",
   "language": "python",
   "name": "python3"
  },
  "language_info": {
   "codemirror_mode": {
    "name": "ipython",
    "version": 3
   },
   "file_extension": ".py",
   "mimetype": "text/x-python",
   "name": "python",
   "nbconvert_exporter": "python",
   "pygments_lexer": "ipython3",
   "version": "3.7.6"
  }
 },
 "nbformat": 4,
 "nbformat_minor": 4
}
